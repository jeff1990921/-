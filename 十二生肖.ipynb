{
  "nbformat": 4,
  "nbformat_minor": 0,
  "metadata": {
    "colab": {
      "name": "十二生肖.ipynb",
      "provenance": [],
      "collapsed_sections": []
    },
    "kernelspec": {
      "name": "python3",
      "display_name": "Python 3"
    }
  },
  "cells": [
    {
      "cell_type": "markdown",
      "metadata": {
        "id": "M8h9mnehwUeW",
        "colab_type": "text"
      },
      "source": [
        "輸入年份，返回該年生肖"
      ]
    },
    {
      "cell_type": "code",
      "metadata": {
        "id": "hBa69L6TvXty",
        "colab_type": "code",
        "colab": {}
      },
      "source": [
        "def zodiac(year):\n",
        "  z = '鼠牛虎兔龍蛇馬羊猴雞狗豬'\n",
        "  print(f'{year} is the zodiac of {z[(year-4)%12]}')"
      ],
      "execution_count": 0,
      "outputs": []
    },
    {
      "cell_type": "code",
      "metadata": {
        "id": "1pRfj8S6xGdq",
        "colab_type": "code",
        "outputId": "c0ad0c8c-565c-4511-9979-d9989e040e18",
        "colab": {
          "base_uri": "https://localhost:8080/",
          "height": 51
        }
      },
      "source": [
        "y = int(input('please enter year:'))\n",
        "zodiac(y)"
      ],
      "execution_count": 0,
      "outputs": [
        {
          "output_type": "stream",
          "text": [
            "please enter year:1997\n",
            "1997 is the zodiac of 牛\n"
          ],
          "name": "stdout"
        }
      ]
    }
  ]
}